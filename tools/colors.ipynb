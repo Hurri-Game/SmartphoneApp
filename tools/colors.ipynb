{
 "cells": [
  {
   "cell_type": "code",
   "execution_count": null,
   "metadata": {},
   "outputs": [],
   "source": [
    "import pandas as pd\n",
    "from pathlib import Path\n",
    "import os"
   ]
  },
  {
   "cell_type": "code",
   "execution_count": null,
   "metadata": {},
   "outputs": [],
   "source": [
    "assets_path = Path(os.path.abspath('')).parent / \"assets\"\n",
    "csv_path = assets_path / \"color_insults/colors.csv\"\n",
    "sounds_path = assets_path / \"sounds/color_sounds\""
   ]
  },
  {
   "cell_type": "code",
   "execution_count": null,
   "metadata": {},
   "outputs": [],
   "source": [
    "df = pd.read_csv(csv_path, sep=',', header=None)\n",
    "df.columns = ['color_de', 'rgb']\n",
    "df['color_de'] = df['color_de'].str.lower()\n",
    "df['color_de'] = df['color_de'].str.replace(' ', '_')\n",
    "df['color_de'] = df['color_de'].str.replace('ä', 'ae')\n",
    "df['color_de'] = df['color_de'].str.replace('ö', 'oe')\n",
    "df['color_de'] = df['color_de'].str.replace('ü', 'ue')\n",
    "df['color_de'] = df['color_de'].str.replace('ß', 'ss')\n",
    "\n",
    "# df.columns = ['color_en', 'color_de', 'rgb', 'hex', 'hsl']\n",
    "# df = df.drop(columns=['color_en', 'hex', 'hsl'])"
   ]
  },
  {
   "cell_type": "code",
   "execution_count": null,
   "metadata": {},
   "outputs": [],
   "source": [
    "df.to_csv(csv_path, sep=',', index=False, header=False)"
   ]
  },
  {
   "cell_type": "code",
   "execution_count": null,
   "metadata": {},
   "outputs": [],
   "source": [
    "df['rgb'] = df['rgb'].str.strip('rgb()')\n",
    "df.dropna(inplace=True)\n",
    "df.to_csv('colors.csv', index=False)"
   ]
  },
  {
   "cell_type": "code",
   "execution_count": null,
   "metadata": {},
   "outputs": [],
   "source": [
    "test = 'dunkles_türkis'\n",
    "test.replace('ü', 'ue')"
   ]
  },
  {
   "cell_type": "code",
   "execution_count": null,
   "metadata": {},
   "outputs": [],
   "source": [
    "import unicodedata\n",
    "color_sounds = sounds_path.glob('*.mp3')\n",
    "for sound in color_sounds:\n",
    "\n",
    "    sound_name = unicodedata.normalize('NFC', sound.stem)\n",
    "\n",
    "    new_name = sound_name.replace(' ', '_')\n",
    "    new_name = new_name.replace('ä', 'ae')\n",
    "    new_name = new_name.replace('ö', 'oe')\n",
    "    new_name = new_name.replace('ü', 'ue')\n",
    "    new_name = new_name.replace('ß', 'ss')\n",
    "    new_name = new_name.lower()\n",
    "    os.rename(sound, sounds_path / f\"{new_name}.mp3\")"
   ]
  },
  {
   "cell_type": "code",
   "execution_count": null,
   "metadata": {},
   "outputs": [],
   "source": [
    "with open('assets_helper.txt', 'w') as f:\n",
    "    for sound in sounds_path.glob('*.mp3'):\n",
    "        asset = Path(*sound.parts[-4:])\n",
    "        f.write(f\"    - {asset} \\n\")"
   ]
  },
  {
   "cell_type": "code",
   "execution_count": null,
   "metadata": {},
   "outputs": [],
   "source": [
    "import random\n",
    "\n",
    "insults = [\n",
    "    'Pfosten', 'Idiot', 'Spacko', 'Bratze', 'Otto', 'Hirni', 'Pfeife', 'Horst', 'Hohlkopf', 'Vollpfosten', \n",
    "    'Dödel', 'Vollidiot', 'Vollhorst', 'Arschkrampe', 'Trottel', 'Blödmann', 'Depp', 'Dussel', 'Flachzange', \n",
    "    'Honk', 'Knallkopf', 'Lusche', 'Nase', 'Pappnase', 'Penner', 'Schwachkopf', 'Schwachmat', 'Trantüte', \n",
    "    'Arschgeige', 'Blödkopf', 'Dummkopf', 'Hirni', 'Hohlbirne', 'Korinthenkacker', 'Klugscheißer', 'Quatschkopf',\n",
    "    'Schwachmatiker', 'Simpel', 'Stümper', 'Volltrottel', 'Wicht', 'Zausel', 'Blödi', 'Doofkopf', 'Grattler', \n",
    "    'Lauch', 'Schleimscheißer', 'Schlappschwanz', 'Vollhonk', 'Witzfigur'\n",
    "]\n",
    "\n",
    "for row in df.iterrows():\n",
    "    str_1 = \"Das ist \"\n",
    "    str_2 = row[1]['color_de']\n",
    "    str_3 = \" du \"\n",
    "    str_4 = random.choice(insults)\n",
    "    print(str_1 + str_2 + str_3 + str_4)\n",
    "\n",
    "    with open(f'files/{str_2}.txt', 'w') as f:\n",
    "        f.write(str_1 + str_2 + str_3 + str_4)\n",
    "\n",
    "    # rgb = row[1]['rgb']\n",
    "    # print(row[1]['color_de'], row[1]['rgb'])"
   ]
  }
 ],
 "metadata": {
  "kernelspec": {
   "display_name": ".venv",
   "language": "python",
   "name": "python3"
  },
  "language_info": {
   "codemirror_mode": {
    "name": "ipython",
    "version": 3
   },
   "file_extension": ".py",
   "mimetype": "text/x-python",
   "name": "python",
   "nbconvert_exporter": "python",
   "pygments_lexer": "ipython3",
   "version": "3.9.6"
  }
 },
 "nbformat": 4,
 "nbformat_minor": 2
}
